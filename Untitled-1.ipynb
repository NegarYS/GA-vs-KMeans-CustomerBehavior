{
 "cells": [
  {
   "cell_type": "code",
   "execution_count": 551,
   "metadata": {},
   "outputs": [],
   "source": [
    "import pandas as pd\n",
    "import numpy as np\n",
    "import matplotlib.pyplot as plt\n",
    "import seaborn as sns\n",
    "from sklearn.preprocessing import MinMaxScaler, StandardScaler\n",
    "from sklearn.cluster import KMeans\n",
    "from sklearn.metrics import silhouette_score\n",
    "import random\n",
    "from sklearn.metrics.pairwise import euclidean_distances"
   ]
  },
  {
   "cell_type": "code",
   "execution_count": 552,
   "metadata": {},
   "outputs": [
    {
     "data": {
      "text/html": [
       "<div>\n",
       "<style scoped>\n",
       "    .dataframe tbody tr th:only-of-type {\n",
       "        vertical-align: middle;\n",
       "    }\n",
       "\n",
       "    .dataframe tbody tr th {\n",
       "        vertical-align: top;\n",
       "    }\n",
       "\n",
       "    .dataframe thead th {\n",
       "        text-align: right;\n",
       "    }\n",
       "</style>\n",
       "<table border=\"1\" class=\"dataframe\">\n",
       "  <thead>\n",
       "    <tr style=\"text-align: right;\">\n",
       "      <th></th>\n",
       "      <th>Row ID</th>\n",
       "      <th>Order ID</th>\n",
       "      <th>Order Date</th>\n",
       "      <th>Ship Date</th>\n",
       "      <th>Ship Mode</th>\n",
       "      <th>Customer ID</th>\n",
       "      <th>Customer Name</th>\n",
       "      <th>Segment</th>\n",
       "      <th>Country</th>\n",
       "      <th>City</th>\n",
       "      <th>...</th>\n",
       "      <th>Postal Code</th>\n",
       "      <th>Region</th>\n",
       "      <th>Product ID</th>\n",
       "      <th>Category</th>\n",
       "      <th>Sub-Category</th>\n",
       "      <th>Product Name</th>\n",
       "      <th>Sales</th>\n",
       "      <th>Quantity</th>\n",
       "      <th>Discount</th>\n",
       "      <th>Profit</th>\n",
       "    </tr>\n",
       "  </thead>\n",
       "  <tbody>\n",
       "    <tr>\n",
       "      <th>0</th>\n",
       "      <td>1</td>\n",
       "      <td>CA-2013-152156</td>\n",
       "      <td>09-11-2013</td>\n",
       "      <td>12-11-2013</td>\n",
       "      <td>Second Class</td>\n",
       "      <td>CG-12520</td>\n",
       "      <td>Claire Gute</td>\n",
       "      <td>Consumer</td>\n",
       "      <td>United States</td>\n",
       "      <td>Henderson</td>\n",
       "      <td>...</td>\n",
       "      <td>42420</td>\n",
       "      <td>South</td>\n",
       "      <td>FUR-BO-10001798</td>\n",
       "      <td>Furniture</td>\n",
       "      <td>Bookcases</td>\n",
       "      <td>Bush Somerset Collection Bookcase</td>\n",
       "      <td>261.9600</td>\n",
       "      <td>2</td>\n",
       "      <td>0.00</td>\n",
       "      <td>41.9136</td>\n",
       "    </tr>\n",
       "    <tr>\n",
       "      <th>1</th>\n",
       "      <td>2</td>\n",
       "      <td>CA-2013-152156</td>\n",
       "      <td>09-11-2013</td>\n",
       "      <td>12-11-2013</td>\n",
       "      <td>Second Class</td>\n",
       "      <td>CG-12520</td>\n",
       "      <td>Claire Gute</td>\n",
       "      <td>Consumer</td>\n",
       "      <td>United States</td>\n",
       "      <td>Henderson</td>\n",
       "      <td>...</td>\n",
       "      <td>42420</td>\n",
       "      <td>South</td>\n",
       "      <td>FUR-CH-10000454</td>\n",
       "      <td>Furniture</td>\n",
       "      <td>Chairs</td>\n",
       "      <td>Hon Deluxe Fabric Upholstered Stacking Chairs,...</td>\n",
       "      <td>731.9400</td>\n",
       "      <td>3</td>\n",
       "      <td>0.00</td>\n",
       "      <td>219.5820</td>\n",
       "    </tr>\n",
       "    <tr>\n",
       "      <th>2</th>\n",
       "      <td>3</td>\n",
       "      <td>CA-2013-138688</td>\n",
       "      <td>13-06-2013</td>\n",
       "      <td>17-06-2013</td>\n",
       "      <td>Second Class</td>\n",
       "      <td>DV-13045</td>\n",
       "      <td>Darrin Van Huff</td>\n",
       "      <td>Corporate</td>\n",
       "      <td>United States</td>\n",
       "      <td>Los Angeles</td>\n",
       "      <td>...</td>\n",
       "      <td>90036</td>\n",
       "      <td>West</td>\n",
       "      <td>OFF-LA-10000240</td>\n",
       "      <td>Office Supplies</td>\n",
       "      <td>Labels</td>\n",
       "      <td>Self-Adhesive Address Labels for Typewriters b...</td>\n",
       "      <td>14.6200</td>\n",
       "      <td>2</td>\n",
       "      <td>0.00</td>\n",
       "      <td>6.8714</td>\n",
       "    </tr>\n",
       "    <tr>\n",
       "      <th>3</th>\n",
       "      <td>4</td>\n",
       "      <td>US-2012-108966</td>\n",
       "      <td>11-10-2012</td>\n",
       "      <td>18-10-2012</td>\n",
       "      <td>Standard Class</td>\n",
       "      <td>SO-20335</td>\n",
       "      <td>Sean O'Donnell</td>\n",
       "      <td>Consumer</td>\n",
       "      <td>United States</td>\n",
       "      <td>Fort Lauderdale</td>\n",
       "      <td>...</td>\n",
       "      <td>33311</td>\n",
       "      <td>South</td>\n",
       "      <td>FUR-TA-10000577</td>\n",
       "      <td>Furniture</td>\n",
       "      <td>Tables</td>\n",
       "      <td>Bretford CR4500 Series Slim Rectangular Table</td>\n",
       "      <td>957.5775</td>\n",
       "      <td>5</td>\n",
       "      <td>0.45</td>\n",
       "      <td>-383.0310</td>\n",
       "    </tr>\n",
       "    <tr>\n",
       "      <th>4</th>\n",
       "      <td>5</td>\n",
       "      <td>US-2012-108966</td>\n",
       "      <td>11-10-2012</td>\n",
       "      <td>18-10-2012</td>\n",
       "      <td>Standard Class</td>\n",
       "      <td>SO-20335</td>\n",
       "      <td>Sean O'Donnell</td>\n",
       "      <td>Consumer</td>\n",
       "      <td>United States</td>\n",
       "      <td>Fort Lauderdale</td>\n",
       "      <td>...</td>\n",
       "      <td>33311</td>\n",
       "      <td>South</td>\n",
       "      <td>OFF-ST-10000760</td>\n",
       "      <td>Office Supplies</td>\n",
       "      <td>Storage</td>\n",
       "      <td>Eldon Fold 'N Roll Cart System</td>\n",
       "      <td>22.3680</td>\n",
       "      <td>2</td>\n",
       "      <td>0.20</td>\n",
       "      <td>2.5164</td>\n",
       "    </tr>\n",
       "  </tbody>\n",
       "</table>\n",
       "<p>5 rows × 21 columns</p>\n",
       "</div>"
      ],
      "text/plain": [
       "   Row ID        Order ID  Order Date   Ship Date       Ship Mode Customer ID  \\\n",
       "0       1  CA-2013-152156  09-11-2013  12-11-2013    Second Class    CG-12520   \n",
       "1       2  CA-2013-152156  09-11-2013  12-11-2013    Second Class    CG-12520   \n",
       "2       3  CA-2013-138688  13-06-2013  17-06-2013    Second Class    DV-13045   \n",
       "3       4  US-2012-108966  11-10-2012  18-10-2012  Standard Class    SO-20335   \n",
       "4       5  US-2012-108966  11-10-2012  18-10-2012  Standard Class    SO-20335   \n",
       "\n",
       "     Customer Name    Segment        Country             City  ...  \\\n",
       "0      Claire Gute   Consumer  United States        Henderson  ...   \n",
       "1      Claire Gute   Consumer  United States        Henderson  ...   \n",
       "2  Darrin Van Huff  Corporate  United States      Los Angeles  ...   \n",
       "3   Sean O'Donnell   Consumer  United States  Fort Lauderdale  ...   \n",
       "4   Sean O'Donnell   Consumer  United States  Fort Lauderdale  ...   \n",
       "\n",
       "  Postal Code  Region       Product ID         Category Sub-Category  \\\n",
       "0       42420   South  FUR-BO-10001798        Furniture    Bookcases   \n",
       "1       42420   South  FUR-CH-10000454        Furniture       Chairs   \n",
       "2       90036    West  OFF-LA-10000240  Office Supplies       Labels   \n",
       "3       33311   South  FUR-TA-10000577        Furniture       Tables   \n",
       "4       33311   South  OFF-ST-10000760  Office Supplies      Storage   \n",
       "\n",
       "                                        Product Name     Sales  Quantity  \\\n",
       "0                  Bush Somerset Collection Bookcase  261.9600         2   \n",
       "1  Hon Deluxe Fabric Upholstered Stacking Chairs,...  731.9400         3   \n",
       "2  Self-Adhesive Address Labels for Typewriters b...   14.6200         2   \n",
       "3      Bretford CR4500 Series Slim Rectangular Table  957.5775         5   \n",
       "4                     Eldon Fold 'N Roll Cart System   22.3680         2   \n",
       "\n",
       "   Discount    Profit  \n",
       "0      0.00   41.9136  \n",
       "1      0.00  219.5820  \n",
       "2      0.00    6.8714  \n",
       "3      0.45 -383.0310  \n",
       "4      0.20    2.5164  \n",
       "\n",
       "[5 rows x 21 columns]"
      ]
     },
     "execution_count": 552,
     "metadata": {},
     "output_type": "execute_result"
    }
   ],
   "source": [
    "data = pd.read_csv(\"Superstore.csv\", encoding='Windows-1252')\n",
    "data.head(5)"
   ]
  },
  {
   "cell_type": "code",
   "execution_count": 553,
   "metadata": {},
   "outputs": [
    {
     "name": "stdout",
     "output_type": "stream",
     "text": [
      "Number of duplicates: 0\n"
     ]
    }
   ],
   "source": [
    "print('Number of duplicates:', data.duplicated().sum() )"
   ]
  },
  {
   "cell_type": "code",
   "execution_count": 554,
   "metadata": {},
   "outputs": [
    {
     "data": {
      "text/plain": [
       "(9994, 21)"
      ]
     },
     "execution_count": 554,
     "metadata": {},
     "output_type": "execute_result"
    }
   ],
   "source": [
    "data.shape"
   ]
  },
  {
   "cell_type": "code",
   "execution_count": 555,
   "metadata": {},
   "outputs": [
    {
     "name": "stdout",
     "output_type": "stream",
     "text": [
      "Row ID           0\n",
      "Order ID         0\n",
      "Order Date       0\n",
      "Ship Date        0\n",
      "Ship Mode        0\n",
      "Customer ID      0\n",
      "Customer Name    0\n",
      "Segment          0\n",
      "Country          0\n",
      "City             0\n",
      "State            0\n",
      "Postal Code      0\n",
      "Region           0\n",
      "Product ID       0\n",
      "Category         0\n",
      "Sub-Category     0\n",
      "Product Name     0\n",
      "Sales            0\n",
      "Quantity         0\n",
      "Discount         0\n",
      "Profit           0\n",
      "dtype: int64\n"
     ]
    }
   ],
   "source": [
    "#Check if there are any null values in the dataset\n",
    "data.notnull()\n",
    "nan_counts = data.isna().sum()\n",
    "print(nan_counts)"
   ]
  },
  {
   "cell_type": "code",
   "execution_count": null,
   "metadata": {},
   "outputs": [],
   "source": []
  },
  {
   "cell_type": "code",
   "execution_count": 556,
   "metadata": {},
   "outputs": [
    {
     "name": "stdout",
     "output_type": "stream",
     "text": [
      "<class 'pandas.core.frame.DataFrame'>\n",
      "RangeIndex: 9994 entries, 0 to 9993\n",
      "Data columns (total 21 columns):\n",
      " #   Column         Non-Null Count  Dtype  \n",
      "---  ------         --------------  -----  \n",
      " 0   Row ID         9994 non-null   int64  \n",
      " 1   Order ID       9994 non-null   object \n",
      " 2   Order Date     9994 non-null   object \n",
      " 3   Ship Date      9994 non-null   object \n",
      " 4   Ship Mode      9994 non-null   object \n",
      " 5   Customer ID    9994 non-null   object \n",
      " 6   Customer Name  9994 non-null   object \n",
      " 7   Segment        9994 non-null   object \n",
      " 8   Country        9994 non-null   object \n",
      " 9   City           9994 non-null   object \n",
      " 10  State          9994 non-null   object \n",
      " 11  Postal Code    9994 non-null   int64  \n",
      " 12  Region         9994 non-null   object \n",
      " 13  Product ID     9994 non-null   object \n",
      " 14  Category       9994 non-null   object \n",
      " 15  Sub-Category   9994 non-null   object \n",
      " 16  Product Name   9994 non-null   object \n",
      " 17  Sales          9994 non-null   float64\n",
      " 18  Quantity       9994 non-null   int64  \n",
      " 19  Discount       9994 non-null   float64\n",
      " 20  Profit         9994 non-null   float64\n",
      "dtypes: float64(3), int64(3), object(15)\n",
      "memory usage: 1.6+ MB\n"
     ]
    }
   ],
   "source": [
    "data.info()"
   ]
  },
  {
   "cell_type": "code",
   "execution_count": 557,
   "metadata": {},
   "outputs": [
    {
     "data": {
      "text/html": [
       "<div>\n",
       "<style scoped>\n",
       "    .dataframe tbody tr th:only-of-type {\n",
       "        vertical-align: middle;\n",
       "    }\n",
       "\n",
       "    .dataframe tbody tr th {\n",
       "        vertical-align: top;\n",
       "    }\n",
       "\n",
       "    .dataframe thead th {\n",
       "        text-align: right;\n",
       "    }\n",
       "</style>\n",
       "<table border=\"1\" class=\"dataframe\">\n",
       "  <thead>\n",
       "    <tr style=\"text-align: right;\">\n",
       "      <th></th>\n",
       "      <th>Row ID</th>\n",
       "      <th>Postal Code</th>\n",
       "      <th>Sales</th>\n",
       "      <th>Quantity</th>\n",
       "      <th>Discount</th>\n",
       "      <th>Profit</th>\n",
       "    </tr>\n",
       "  </thead>\n",
       "  <tbody>\n",
       "    <tr>\n",
       "      <th>count</th>\n",
       "      <td>9994.000000</td>\n",
       "      <td>9994.000000</td>\n",
       "      <td>9994.000000</td>\n",
       "      <td>9994.000000</td>\n",
       "      <td>9994.000000</td>\n",
       "      <td>9994.000000</td>\n",
       "    </tr>\n",
       "    <tr>\n",
       "      <th>mean</th>\n",
       "      <td>4997.500000</td>\n",
       "      <td>55190.379428</td>\n",
       "      <td>229.858001</td>\n",
       "      <td>3.789574</td>\n",
       "      <td>0.156203</td>\n",
       "      <td>28.656896</td>\n",
       "    </tr>\n",
       "    <tr>\n",
       "      <th>std</th>\n",
       "      <td>2885.163629</td>\n",
       "      <td>32063.693350</td>\n",
       "      <td>623.245101</td>\n",
       "      <td>2.225110</td>\n",
       "      <td>0.206452</td>\n",
       "      <td>234.260108</td>\n",
       "    </tr>\n",
       "    <tr>\n",
       "      <th>min</th>\n",
       "      <td>1.000000</td>\n",
       "      <td>1040.000000</td>\n",
       "      <td>0.444000</td>\n",
       "      <td>1.000000</td>\n",
       "      <td>0.000000</td>\n",
       "      <td>-6599.978000</td>\n",
       "    </tr>\n",
       "    <tr>\n",
       "      <th>25%</th>\n",
       "      <td>2499.250000</td>\n",
       "      <td>23223.000000</td>\n",
       "      <td>17.280000</td>\n",
       "      <td>2.000000</td>\n",
       "      <td>0.000000</td>\n",
       "      <td>1.728750</td>\n",
       "    </tr>\n",
       "    <tr>\n",
       "      <th>50%</th>\n",
       "      <td>4997.500000</td>\n",
       "      <td>56430.500000</td>\n",
       "      <td>54.490000</td>\n",
       "      <td>3.000000</td>\n",
       "      <td>0.200000</td>\n",
       "      <td>8.666500</td>\n",
       "    </tr>\n",
       "    <tr>\n",
       "      <th>75%</th>\n",
       "      <td>7495.750000</td>\n",
       "      <td>90008.000000</td>\n",
       "      <td>209.940000</td>\n",
       "      <td>5.000000</td>\n",
       "      <td>0.200000</td>\n",
       "      <td>29.364000</td>\n",
       "    </tr>\n",
       "    <tr>\n",
       "      <th>max</th>\n",
       "      <td>9994.000000</td>\n",
       "      <td>99301.000000</td>\n",
       "      <td>22638.480000</td>\n",
       "      <td>14.000000</td>\n",
       "      <td>0.800000</td>\n",
       "      <td>8399.976000</td>\n",
       "    </tr>\n",
       "  </tbody>\n",
       "</table>\n",
       "</div>"
      ],
      "text/plain": [
       "            Row ID   Postal Code         Sales     Quantity     Discount  \\\n",
       "count  9994.000000   9994.000000   9994.000000  9994.000000  9994.000000   \n",
       "mean   4997.500000  55190.379428    229.858001     3.789574     0.156203   \n",
       "std    2885.163629  32063.693350    623.245101     2.225110     0.206452   \n",
       "min       1.000000   1040.000000      0.444000     1.000000     0.000000   \n",
       "25%    2499.250000  23223.000000     17.280000     2.000000     0.000000   \n",
       "50%    4997.500000  56430.500000     54.490000     3.000000     0.200000   \n",
       "75%    7495.750000  90008.000000    209.940000     5.000000     0.200000   \n",
       "max    9994.000000  99301.000000  22638.480000    14.000000     0.800000   \n",
       "\n",
       "            Profit  \n",
       "count  9994.000000  \n",
       "mean     28.656896  \n",
       "std     234.260108  \n",
       "min   -6599.978000  \n",
       "25%       1.728750  \n",
       "50%       8.666500  \n",
       "75%      29.364000  \n",
       "max    8399.976000  "
      ]
     },
     "execution_count": 557,
     "metadata": {},
     "output_type": "execute_result"
    }
   ],
   "source": [
    "data.describe()"
   ]
  },
  {
   "cell_type": "code",
   "execution_count": 558,
   "metadata": {},
   "outputs": [
    {
     "data": {
      "image/png": "[encoded data removed]",
      "text/plain": [
       "<Figure size 600x400 with 1 Axes>"
      ]
     },
     "metadata": {},
     "output_type": "display_data"
    },
    {
     "data": {
      "image/png": "[encoded data removed]",
      "text/plain": [
       "<Figure size 600x400 with 1 Axes>"
      ]
     },
     "metadata": {},
     "output_type": "display_data"
    },
    {
     "data": {
      "image/png": "[encoded data removed]",
      "text/plain": [
       "<Figure size 600x400 with 1 Axes>"
      ]
     },
     "metadata": {},
     "output_type": "display_data"
    },
    {
     "data": {
      "image/png": "[encoded data removed]",
      "text/plain": [
       "<Figure size 600x400 with 1 Axes>"
      ]
     },
     "metadata": {},
     "output_type": "display_data"
    },
    {
     "data": {
      "image/png": "[encoded data removed]",
      "text/plain": [
       "<Figure size 600x400 with 1 Axes>"
      ]
     },
     "metadata": {},
     "output_type": "display_data"
    },
    {
     "data": {
      "image/png": "[encoded data removed]",
      "text/plain": [
       "<Figure size 600x400 with 1 Axes>"
      ]
     },
     "metadata": {},
     "output_type": "display_data"
    }
   ],
   "source": [
    "import matplotlib.pyplot as plt\n",
    "\n",
    "numeric_columns = data.select_dtypes(include=['int64', 'float64']).columns\n",
    "for col in numeric_columns:\n",
    "    plt.figure(figsize=(6, 4))\n",
    "    sns.boxplot(x=data[col])\n",
    "    plt.title(f\"Boxplot for {col}\")\n",
    "    plt.show()\n"
   ]
  },
  {
   "cell_type": "code",
   "execution_count": 559,
   "metadata": {},
   "outputs": [
    {
     "data": {
      "image/png": "[encoded data removed]",
      "text/plain": [
       "<Figure size 640x480 with 1 Axes>"
      ]
     },
     "metadata": {},
     "output_type": "display_data"
    }
   ],
   "source": [
    "Q1 = data['Profit'].quantile(0.25)\n",
    "Q3 = data['Profit'].quantile(0.75)\n",
    "IQR = Q3 - Q1\n",
    "lower_bound = Q1 - 1.5 * IQR\n",
    "upper_bound = Q3 + 1.5 * IQR\n",
    "data = data[(data[\"Profit\"] >= lower_bound) & (data[\"Profit\"] <= upper_bound)]\n",
    "sns.boxplot(data[\"Profit\"])\n",
    "plt.show()"
   ]
  },
  {
   "cell_type": "code",
   "execution_count": 560,
   "metadata": {},
   "outputs": [
    {
     "data": {
      "image/png": "[encoded data removed]",
      "text/plain": [
       "<Figure size 640x480 with 1 Axes>"
      ]
     },
     "metadata": {},
     "output_type": "display_data"
    }
   ],
   "source": [
    "Q1 = data['Sales'].quantile(0.25)\n",
    "Q3 = data['Sales'].quantile(0.75)\n",
    "IQR = Q3 - Q1\n",
    "lower_bound = Q1 - 1.5 * IQR\n",
    "upper_bound = Q3 + 1.5 * IQR\n",
    "data = data[(data[\"Sales\"] >= lower_bound) & (data[\"Sales\"] <= upper_bound)]\n",
    "sns.boxplot(data[\"Sales\"])\n",
    "plt.show()"
   ]
  },
  {
   "cell_type": "code",
   "execution_count": 561,
   "metadata": {},
   "outputs": [
    {
     "data": {
      "image/png": "[encoded data removed]",
      "text/plain": [
       "<Figure size 640x480 with 1 Axes>"
      ]
     },
     "metadata": {},
     "output_type": "display_data"
    }
   ],
   "source": [
    "Q1 = data['Discount'].quantile(0.25)\n",
    "Q3 = data['Discount'].quantile(0.75)\n",
    "IQR = Q3 - Q1\n",
    "lower_bound = Q1 - 1.5 * IQR\n",
    "upper_bound = Q3 + 1.5 * IQR\n",
    "data = data[(data[\"Discount\"] >= lower_bound) & (data[\"Discount\"] <= upper_bound)]\n",
    "sns.boxplot(data[\"Discount\"])\n",
    "plt.show()"
   ]
  },
  {
   "cell_type": "code",
   "execution_count": 562,
   "metadata": {},
   "outputs": [
    {
     "data": {
      "image/png": "[encoded data removed]",
      "text/plain": [
       "<Figure size 640x480 with 1 Axes>"
      ]
     },
     "metadata": {},
     "output_type": "display_data"
    }
   ],
   "source": [
    "Q1 = data['Quantity'].quantile(0.25)\n",
    "Q3 = data['Quantity'].quantile(0.75)\n",
    "IQR = Q3 - Q1\n",
    "lower_bound = Q1 - 1.5 * IQR\n",
    "upper_bound = Q3 + 1.5 * IQR\n",
    "data = data[(data[\"Quantity\"] >= lower_bound) & (data[\"Quantity\"] <= upper_bound)]\n",
    "sns.boxplot(data[\"Quantity\"])\n",
    "plt.show()"
   ]
  },
  {
   "cell_type": "code",
   "execution_count": 563,
   "metadata": {},
   "outputs": [
    {
     "name": "stdout",
     "output_type": "stream",
     "text": [
      "Row ID           0\n",
      "Order ID         0\n",
      "Order Date       0\n",
      "Ship Date        0\n",
      "Ship Mode        0\n",
      "Customer ID      0\n",
      "Customer Name    0\n",
      "Segment          0\n",
      "Country          0\n",
      "City             0\n",
      "State            0\n",
      "Postal Code      0\n",
      "Region           0\n",
      "Product ID       0\n",
      "Category         0\n",
      "Sub-Category     0\n",
      "Product Name     0\n",
      "Sales            0\n",
      "Quantity         0\n",
      "Discount         0\n",
      "Profit           0\n",
      "dtype: int64\n"
     ]
    }
   ],
   "source": [
    "data.notnull()\n",
    "nan_counts = data.isna().sum()\n",
    "print(nan_counts)"
   ]
  },
  {
   "cell_type": "code",
   "execution_count": 564,
   "metadata": {},
   "outputs": [
    {
     "name": "stdout",
     "output_type": "stream",
     "text": [
      "Index(['Order ID', 'Order Date', 'Ship Date', 'Ship Mode', 'Customer ID',\n",
      "       'Customer Name', 'Segment', 'Country', 'City', 'State', 'Region',\n",
      "       'Product ID', 'Category', 'Sub-Category', 'Product Name'],\n",
      "      dtype='object')\n"
     ]
    }
   ],
   "source": [
    "categorical_columns = data.select_dtypes(include=['object']).columns\n",
    "print(categorical_columns)"
   ]
  },
  {
   "cell_type": "code",
   "execution_count": 565,
   "metadata": {},
   "outputs": [
    {
     "name": "stderr",
     "output_type": "stream",
     "text": [
      "C:\\Users\\asus\\AppData\\Local\\Temp\\ipykernel_19184\\3592299843.py:1: UserWarning: Parsing dates in %d-%m-%Y format when dayfirst=False (the default) was specified. Pass `dayfirst=True` or specify a format to silence this warning.\n",
      "  data['Order Date'] = pd.to_datetime(data['Order Date'])\n"
     ]
    }
   ],
   "source": [
    "data['Order Date'] = pd.to_datetime(data['Order Date'])\n"
   ]
  },
  {
   "cell_type": "code",
   "execution_count": 566,
   "metadata": {},
   "outputs": [],
   "source": [
    "data['Order_Year'] = data['Order Date'].dt.year\n",
    "data['Order_Month'] = data['Order Date'].dt.month\n",
    "data['Order_Day'] = data['Order Date'].dt.day\n",
    "\n",
    "data.drop(columns=['Order Date'], inplace=True)\n",
    "\n"
   ]
  },
  {
   "cell_type": "code",
   "execution_count": 567,
   "metadata": {},
   "outputs": [
    {
     "name": "stderr",
     "output_type": "stream",
     "text": [
      "C:\\Users\\asus\\AppData\\Local\\Temp\\ipykernel_19184\\3676060515.py:1: UserWarning: Parsing dates in %d-%m-%Y format when dayfirst=False (the default) was specified. Pass `dayfirst=True` or specify a format to silence this warning.\n",
      "  data['Ship Date'] = pd.to_datetime(data['Ship Date'])\n"
     ]
    }
   ],
   "source": [
    "data['Ship Date'] = pd.to_datetime(data['Ship Date'])\n",
    "\n",
    "data['Ship_Year'] = data['Ship Date'].dt.year\n",
    "data['Ship_Month'] = data['Ship Date'].dt.month\n",
    "data['Ship_Day'] = data['Ship Date'].dt.day\n",
    "data.drop(columns=['Ship Date'], inplace=True)"
   ]
  },
  {
   "cell_type": "code",
   "execution_count": 568,
   "metadata": {},
   "outputs": [
    {
     "data": {
      "text/html": [
       "<div>\n",
       "<style scoped>\n",
       "    .dataframe tbody tr th:only-of-type {\n",
       "        vertical-align: middle;\n",
       "    }\n",
       "\n",
       "    .dataframe tbody tr th {\n",
       "        vertical-align: top;\n",
       "    }\n",
       "\n",
       "    .dataframe thead th {\n",
       "        text-align: right;\n",
       "    }\n",
       "</style>\n",
       "<table border=\"1\" class=\"dataframe\">\n",
       "  <thead>\n",
       "    <tr style=\"text-align: right;\">\n",
       "      <th></th>\n",
       "      <th>Row ID</th>\n",
       "      <th>Order ID</th>\n",
       "      <th>Ship Mode</th>\n",
       "      <th>Customer ID</th>\n",
       "      <th>Customer Name</th>\n",
       "      <th>Segment</th>\n",
       "      <th>Country</th>\n",
       "      <th>City</th>\n",
       "      <th>State</th>\n",
       "      <th>Postal Code</th>\n",
       "      <th>...</th>\n",
       "      <th>Sales</th>\n",
       "      <th>Quantity</th>\n",
       "      <th>Discount</th>\n",
       "      <th>Profit</th>\n",
       "      <th>Order_Year</th>\n",
       "      <th>Order_Month</th>\n",
       "      <th>Order_Day</th>\n",
       "      <th>Ship_Year</th>\n",
       "      <th>Ship_Month</th>\n",
       "      <th>Ship_Day</th>\n",
       "    </tr>\n",
       "  </thead>\n",
       "  <tbody>\n",
       "    <tr>\n",
       "      <th>2</th>\n",
       "      <td>3</td>\n",
       "      <td>CA-2013-138688</td>\n",
       "      <td>Second Class</td>\n",
       "      <td>DV-13045</td>\n",
       "      <td>Darrin Van Huff</td>\n",
       "      <td>Corporate</td>\n",
       "      <td>United States</td>\n",
       "      <td>Los Angeles</td>\n",
       "      <td>California</td>\n",
       "      <td>90036</td>\n",
       "      <td>...</td>\n",
       "      <td>14.620</td>\n",
       "      <td>2</td>\n",
       "      <td>0.0</td>\n",
       "      <td>6.8714</td>\n",
       "      <td>2013</td>\n",
       "      <td>6</td>\n",
       "      <td>13</td>\n",
       "      <td>2013</td>\n",
       "      <td>6</td>\n",
       "      <td>17</td>\n",
       "    </tr>\n",
       "    <tr>\n",
       "      <th>4</th>\n",
       "      <td>5</td>\n",
       "      <td>US-2012-108966</td>\n",
       "      <td>Standard Class</td>\n",
       "      <td>SO-20335</td>\n",
       "      <td>Sean O'Donnell</td>\n",
       "      <td>Consumer</td>\n",
       "      <td>United States</td>\n",
       "      <td>Fort Lauderdale</td>\n",
       "      <td>Florida</td>\n",
       "      <td>33311</td>\n",
       "      <td>...</td>\n",
       "      <td>22.368</td>\n",
       "      <td>2</td>\n",
       "      <td>0.2</td>\n",
       "      <td>2.5164</td>\n",
       "      <td>2012</td>\n",
       "      <td>10</td>\n",
       "      <td>11</td>\n",
       "      <td>2012</td>\n",
       "      <td>10</td>\n",
       "      <td>18</td>\n",
       "    </tr>\n",
       "    <tr>\n",
       "      <th>5</th>\n",
       "      <td>6</td>\n",
       "      <td>CA-2011-115812</td>\n",
       "      <td>Standard Class</td>\n",
       "      <td>BH-11710</td>\n",
       "      <td>Brosina Hoffman</td>\n",
       "      <td>Consumer</td>\n",
       "      <td>United States</td>\n",
       "      <td>Los Angeles</td>\n",
       "      <td>California</td>\n",
       "      <td>90032</td>\n",
       "      <td>...</td>\n",
       "      <td>48.860</td>\n",
       "      <td>7</td>\n",
       "      <td>0.0</td>\n",
       "      <td>14.1694</td>\n",
       "      <td>2011</td>\n",
       "      <td>6</td>\n",
       "      <td>9</td>\n",
       "      <td>2011</td>\n",
       "      <td>6</td>\n",
       "      <td>14</td>\n",
       "    </tr>\n",
       "    <tr>\n",
       "      <th>6</th>\n",
       "      <td>7</td>\n",
       "      <td>CA-2011-115812</td>\n",
       "      <td>Standard Class</td>\n",
       "      <td>BH-11710</td>\n",
       "      <td>Brosina Hoffman</td>\n",
       "      <td>Consumer</td>\n",
       "      <td>United States</td>\n",
       "      <td>Los Angeles</td>\n",
       "      <td>California</td>\n",
       "      <td>90032</td>\n",
       "      <td>...</td>\n",
       "      <td>7.280</td>\n",
       "      <td>4</td>\n",
       "      <td>0.0</td>\n",
       "      <td>1.9656</td>\n",
       "      <td>2011</td>\n",
       "      <td>6</td>\n",
       "      <td>9</td>\n",
       "      <td>2011</td>\n",
       "      <td>6</td>\n",
       "      <td>14</td>\n",
       "    </tr>\n",
       "    <tr>\n",
       "      <th>8</th>\n",
       "      <td>9</td>\n",
       "      <td>CA-2011-115812</td>\n",
       "      <td>Standard Class</td>\n",
       "      <td>BH-11710</td>\n",
       "      <td>Brosina Hoffman</td>\n",
       "      <td>Consumer</td>\n",
       "      <td>United States</td>\n",
       "      <td>Los Angeles</td>\n",
       "      <td>California</td>\n",
       "      <td>90032</td>\n",
       "      <td>...</td>\n",
       "      <td>18.504</td>\n",
       "      <td>3</td>\n",
       "      <td>0.2</td>\n",
       "      <td>5.7825</td>\n",
       "      <td>2011</td>\n",
       "      <td>6</td>\n",
       "      <td>9</td>\n",
       "      <td>2011</td>\n",
       "      <td>6</td>\n",
       "      <td>14</td>\n",
       "    </tr>\n",
       "  </tbody>\n",
       "</table>\n",
       "<p>5 rows × 25 columns</p>\n",
       "</div>"
      ],
      "text/plain": [
       "   Row ID        Order ID       Ship Mode Customer ID    Customer Name  \\\n",
       "2       3  CA-2013-138688    Second Class    DV-13045  Darrin Van Huff   \n",
       "4       5  US-2012-108966  Standard Class    SO-20335   Sean O'Donnell   \n",
       "5       6  CA-2011-115812  Standard Class    BH-11710  Brosina Hoffman   \n",
       "6       7  CA-2011-115812  Standard Class    BH-11710  Brosina Hoffman   \n",
       "8       9  CA-2011-115812  Standard Class    BH-11710  Brosina Hoffman   \n",
       "\n",
       "     Segment        Country             City       State  Postal Code  ...  \\\n",
       "2  Corporate  United States      Los Angeles  California        90036  ...   \n",
       "4   Consumer  United States  Fort Lauderdale     Florida        33311  ...   \n",
       "5   Consumer  United States      Los Angeles  California        90032  ...   \n",
       "6   Consumer  United States      Los Angeles  California        90032  ...   \n",
       "8   Consumer  United States      Los Angeles  California        90032  ...   \n",
       "\n",
       "    Sales Quantity Discount   Profit Order_Year  Order_Month  Order_Day  \\\n",
       "2  14.620        2      0.0   6.8714       2013            6         13   \n",
       "4  22.368        2      0.2   2.5164       2012           10         11   \n",
       "5  48.860        7      0.0  14.1694       2011            6          9   \n",
       "6   7.280        4      0.0   1.9656       2011            6          9   \n",
       "8  18.504        3      0.2   5.7825       2011            6          9   \n",
       "\n",
       "   Ship_Year  Ship_Month  Ship_Day  \n",
       "2       2013           6        17  \n",
       "4       2012          10        18  \n",
       "5       2011           6        14  \n",
       "6       2011           6        14  \n",
       "8       2011           6        14  \n",
       "\n",
       "[5 rows x 25 columns]"
      ]
     },
     "execution_count": 568,
     "metadata": {},
     "output_type": "execute_result"
    }
   ],
   "source": [
    "data.head()"
   ]
  },
  {
   "cell_type": "code",
   "execution_count": 569,
   "metadata": {},
   "outputs": [
    {
     "name": "stdout",
     "output_type": "stream",
     "text": [
      "object\n",
      "['Corporate' 'Consumer' 'Home Office']\n"
     ]
    }
   ],
   "source": [
    "print(data['Segment'].dtype)\n",
    "\n",
    "# Check unique values in the column to understand its nature\n",
    "print(data['Segment'].unique())"
   ]
  },
  {
   "cell_type": "code",
   "execution_count": 570,
   "metadata": {},
   "outputs": [
    {
     "name": "stdout",
     "output_type": "stream",
     "text": [
      "object\n",
      "['West' 'South' 'Central' 'East']\n"
     ]
    }
   ],
   "source": [
    "print(data['Region'].dtype)\n",
    "\n",
    "# Check unique values in the column to understand its nature\n",
    "print(data['Region'].unique())"
   ]
  },
  {
   "cell_type": "code",
   "execution_count": 571,
   "metadata": {},
   "outputs": [
    {
     "name": "stdout",
     "output_type": "stream",
     "text": [
      "object\n",
      "['Second Class' 'Standard Class' 'First Class' 'Same Day']\n"
     ]
    }
   ],
   "source": [
    "print(data['Ship Mode'].dtype)\n",
    "\n",
    "# Check unique values in the column to understand its nature\n",
    "print(data['Ship Mode'].unique())"
   ]
  },
  {
   "cell_type": "code",
   "execution_count": 572,
   "metadata": {},
   "outputs": [],
   "source": [
    "data.drop('Order ID', axis=1, inplace=True)\n",
    "data.drop('Row ID', axis=1, inplace=True)\n",
    "data.drop('Customer ID', axis=1, inplace=True)\n",
    "data.drop('Customer Name', axis=1, inplace=True) #not important\n",
    "data.drop('Country', axis=1, inplace=True) #for all is US\n",
    "data.drop('Product ID', axis=1, inplace=True)"
   ]
  },
  {
   "cell_type": "code",
   "execution_count": 573,
   "metadata": {},
   "outputs": [
    {
     "name": "stdout",
     "output_type": "stream",
     "text": [
      "Ship Mode       0\n",
      "Segment         0\n",
      "City            0\n",
      "State           0\n",
      "Postal Code     0\n",
      "Region          0\n",
      "Category        0\n",
      "Sub-Category    0\n",
      "Product Name    0\n",
      "Sales           0\n",
      "Quantity        0\n",
      "Discount        0\n",
      "Profit          0\n",
      "Order_Year      0\n",
      "Order_Month     0\n",
      "Order_Day       0\n",
      "Ship_Year       0\n",
      "Ship_Month      0\n",
      "Ship_Day        0\n",
      "dtype: int64\n"
     ]
    }
   ],
   "source": [
    "data.notnull()\n",
    "nan_counts = data.isna().sum()\n",
    "print(nan_counts)"
   ]
  },
  {
   "cell_type": "code",
   "execution_count": 574,
   "metadata": {},
   "outputs": [
    {
     "name": "stdout",
     "output_type": "stream",
     "text": [
      "Index(['Ship Mode', 'Segment', 'City', 'State', 'Region', 'Category',\n",
      "       'Sub-Category', 'Product Name'],\n",
      "      dtype='object')\n"
     ]
    }
   ],
   "source": [
    "categorical_columns = data.select_dtypes(include=['object']).columns\n",
    "print(categorical_columns)"
   ]
  },
  {
   "cell_type": "code",
   "execution_count": null,
   "metadata": {},
   "outputs": [],
   "source": []
  },
  {
   "cell_type": "code",
   "execution_count": 575,
   "metadata": {},
   "outputs": [
    {
     "data": {
      "text/html": [
       "<div>\n",
       "<style scoped>\n",
       "    .dataframe tbody tr th:only-of-type {\n",
       "        vertical-align: middle;\n",
       "    }\n",
       "\n",
       "    .dataframe tbody tr th {\n",
       "        vertical-align: top;\n",
       "    }\n",
       "\n",
       "    .dataframe thead th {\n",
       "        text-align: right;\n",
       "    }\n",
       "</style>\n",
       "<table border=\"1\" class=\"dataframe\">\n",
       "  <thead>\n",
       "    <tr style=\"text-align: right;\">\n",
       "      <th></th>\n",
       "      <th>City</th>\n",
       "      <th>State</th>\n",
       "      <th>Postal Code</th>\n",
       "      <th>Sub-Category</th>\n",
       "      <th>Product Name</th>\n",
       "      <th>Sales</th>\n",
       "      <th>Quantity</th>\n",
       "      <th>Discount</th>\n",
       "      <th>Profit</th>\n",
       "      <th>Order_Year</th>\n",
       "      <th>...</th>\n",
       "      <th>Segment_Consumer</th>\n",
       "      <th>Segment_Corporate</th>\n",
       "      <th>Segment_Home Office</th>\n",
       "      <th>Region_Central</th>\n",
       "      <th>Region_East</th>\n",
       "      <th>Region_South</th>\n",
       "      <th>Region_West</th>\n",
       "      <th>Category_Furniture</th>\n",
       "      <th>Category_Office Supplies</th>\n",
       "      <th>Category_Technology</th>\n",
       "    </tr>\n",
       "  </thead>\n",
       "  <tbody>\n",
       "    <tr>\n",
       "      <th>2</th>\n",
       "      <td>250</td>\n",
       "      <td>3</td>\n",
       "      <td>90036</td>\n",
       "      <td>9</td>\n",
       "      <td>1159</td>\n",
       "      <td>14.620</td>\n",
       "      <td>2</td>\n",
       "      <td>0.0</td>\n",
       "      <td>6.8714</td>\n",
       "      <td>2013</td>\n",
       "      <td>...</td>\n",
       "      <td>0.0</td>\n",
       "      <td>1.0</td>\n",
       "      <td>0.0</td>\n",
       "      <td>0.0</td>\n",
       "      <td>0.0</td>\n",
       "      <td>0.0</td>\n",
       "      <td>1.0</td>\n",
       "      <td>0.0</td>\n",
       "      <td>1.0</td>\n",
       "      <td>0.0</td>\n",
       "    </tr>\n",
       "    <tr>\n",
       "      <th>4</th>\n",
       "      <td>143</td>\n",
       "      <td>8</td>\n",
       "      <td>33311</td>\n",
       "      <td>13</td>\n",
       "      <td>488</td>\n",
       "      <td>22.368</td>\n",
       "      <td>2</td>\n",
       "      <td>0.2</td>\n",
       "      <td>2.5164</td>\n",
       "      <td>2012</td>\n",
       "      <td>...</td>\n",
       "      <td>1.0</td>\n",
       "      <td>0.0</td>\n",
       "      <td>0.0</td>\n",
       "      <td>0.0</td>\n",
       "      <td>0.0</td>\n",
       "      <td>1.0</td>\n",
       "      <td>0.0</td>\n",
       "      <td>0.0</td>\n",
       "      <td>1.0</td>\n",
       "      <td>0.0</td>\n",
       "    </tr>\n",
       "    <tr>\n",
       "      <th>5</th>\n",
       "      <td>250</td>\n",
       "      <td>3</td>\n",
       "      <td>90032</td>\n",
       "      <td>8</td>\n",
       "      <td>485</td>\n",
       "      <td>48.860</td>\n",
       "      <td>7</td>\n",
       "      <td>0.0</td>\n",
       "      <td>14.1694</td>\n",
       "      <td>2011</td>\n",
       "      <td>...</td>\n",
       "      <td>1.0</td>\n",
       "      <td>0.0</td>\n",
       "      <td>0.0</td>\n",
       "      <td>0.0</td>\n",
       "      <td>0.0</td>\n",
       "      <td>0.0</td>\n",
       "      <td>1.0</td>\n",
       "      <td>1.0</td>\n",
       "      <td>0.0</td>\n",
       "      <td>0.0</td>\n",
       "    </tr>\n",
       "    <tr>\n",
       "      <th>6</th>\n",
       "      <td>250</td>\n",
       "      <td>3</td>\n",
       "      <td>90032</td>\n",
       "      <td>2</td>\n",
       "      <td>919</td>\n",
       "      <td>7.280</td>\n",
       "      <td>4</td>\n",
       "      <td>0.0</td>\n",
       "      <td>1.9656</td>\n",
       "      <td>2011</td>\n",
       "      <td>...</td>\n",
       "      <td>1.0</td>\n",
       "      <td>0.0</td>\n",
       "      <td>0.0</td>\n",
       "      <td>0.0</td>\n",
       "      <td>0.0</td>\n",
       "      <td>0.0</td>\n",
       "      <td>1.0</td>\n",
       "      <td>0.0</td>\n",
       "      <td>1.0</td>\n",
       "      <td>0.0</td>\n",
       "    </tr>\n",
       "    <tr>\n",
       "      <th>8</th>\n",
       "      <td>250</td>\n",
       "      <td>3</td>\n",
       "      <td>90032</td>\n",
       "      <td>3</td>\n",
       "      <td>420</td>\n",
       "      <td>18.504</td>\n",
       "      <td>3</td>\n",
       "      <td>0.2</td>\n",
       "      <td>5.7825</td>\n",
       "      <td>2011</td>\n",
       "      <td>...</td>\n",
       "      <td>1.0</td>\n",
       "      <td>0.0</td>\n",
       "      <td>0.0</td>\n",
       "      <td>0.0</td>\n",
       "      <td>0.0</td>\n",
       "      <td>0.0</td>\n",
       "      <td>1.0</td>\n",
       "      <td>0.0</td>\n",
       "      <td>1.0</td>\n",
       "      <td>0.0</td>\n",
       "    </tr>\n",
       "  </tbody>\n",
       "</table>\n",
       "<p>5 rows × 29 columns</p>\n",
       "</div>"
      ],
      "text/plain": [
       "   City  State  Postal Code  Sub-Category  Product Name   Sales  Quantity  \\\n",
       "2   250      3        90036             9          1159  14.620         2   \n",
       "4   143      8        33311            13           488  22.368         2   \n",
       "5   250      3        90032             8           485  48.860         7   \n",
       "6   250      3        90032             2           919   7.280         4   \n",
       "8   250      3        90032             3           420  18.504         3   \n",
       "\n",
       "   Discount   Profit  Order_Year  ...  Segment_Consumer  Segment_Corporate  \\\n",
       "2       0.0   6.8714        2013  ...               0.0                1.0   \n",
       "4       0.2   2.5164        2012  ...               1.0                0.0   \n",
       "5       0.0  14.1694        2011  ...               1.0                0.0   \n",
       "6       0.0   1.9656        2011  ...               1.0                0.0   \n",
       "8       0.2   5.7825        2011  ...               1.0                0.0   \n",
       "\n",
       "   Segment_Home Office  Region_Central  Region_East  Region_South  \\\n",
       "2                  0.0             0.0          0.0           0.0   \n",
       "4                  0.0             0.0          0.0           1.0   \n",
       "5                  0.0             0.0          0.0           0.0   \n",
       "6                  0.0             0.0          0.0           0.0   \n",
       "8                  0.0             0.0          0.0           0.0   \n",
       "\n",
       "   Region_West  Category_Furniture  Category_Office Supplies  \\\n",
       "2          1.0                 0.0                       1.0   \n",
       "4          0.0                 0.0                       1.0   \n",
       "5          1.0                 1.0                       0.0   \n",
       "6          1.0                 0.0                       1.0   \n",
       "8          1.0                 0.0                       1.0   \n",
       "\n",
       "   Category_Technology  \n",
       "2                  0.0  \n",
       "4                  0.0  \n",
       "5                  0.0  \n",
       "6                  0.0  \n",
       "8                  0.0  \n",
       "\n",
       "[5 rows x 29 columns]"
      ]
     },
     "execution_count": 575,
     "metadata": {},
     "output_type": "execute_result"
    }
   ],
   "source": [
    "from sklearn.preprocessing import OneHotEncoder, LabelEncoder\n",
    "for column in categorical_columns:\n",
    "    unique_values = data[column].nunique()\n",
    "    \n",
    "    if unique_values <= 10:  \n",
    "        \n",
    "        encoder = OneHotEncoder(sparse_output=False)  \n",
    "        encoded_data = encoder.fit_transform(data[[column]])\n",
    "        \n",
    "        \n",
    "        encoded_df = pd.DataFrame(\n",
    "            encoded_data, \n",
    "            columns=[f\"{column}_{cat}\" for cat in encoder.categories_[0]],\n",
    "            index=data.index\n",
    "        )\n",
    "        data = pd.concat([data, encoded_df], axis=1)\n",
    "        data.drop(column, axis=1, inplace=True)\n",
    "    else:  \n",
    "        \n",
    "        le = LabelEncoder()\n",
    "        data[column] = le.fit_transform(data[column])\n",
    "\n",
    "\n",
    "data.head()"
   ]
  },
  {
   "cell_type": "code",
   "execution_count": 576,
   "metadata": {},
   "outputs": [
    {
     "name": "stdout",
     "output_type": "stream",
     "text": [
      "int32\n",
      "[250 143  91 480 408 148 349 195 301 271 121 483 116 304 309 456  75 156\n",
      " 433 202 272 110 120 382 283 398  23  70 462  89 487 389 310 146 420 409\n",
      " 421 126  63 404 289 137 162 373 176 482   1 113 394 103 270 118 115  88\n",
      " 417 224 407  48  69 295  78 199 364 441  87  34 443 225  15  17 173 399\n",
      " 246 185 298 234  24 253 258 178 457 368 345 230 471 278 196 380 251 232\n",
      "  62 308 154  22 315 350   7 242 197 140  98 338  20 157 165 223 291 276\n",
      " 183 144 203 442 266 400 228 108 464 286 383 353 424 465  81 461  58 478\n",
      "  74  66 336 329 186 322 135 455  99 167  44 114 226 327 127 415 282 141\n",
      " 249 241 401 306 153 319   3 453 139 381 454 391  41 340 326 472 205  53\n",
      " 493 321  83 131 390 207  11 192 217 227 102 377 179 133 392 386  96  55\n",
      "  46 172 255 365 299 147 351 356 427 339 287 305 201 279 158 312 449 484\n",
      "  94 358   5 445 220  49 136  14  35   4 128 467 164  65 212 452 426 317\n",
      " 354 198  30 436  27 211 256 325 458 374 274  45 428  50 431 209 361 269\n",
      "  71 372 219  52 343  73 206 405 238  47 346 347 370 438 397 112 402 214\n",
      " 243 240 264 366  28 429 307 280 425 142  80 470 393 451 149 257   2  85\n",
      " 130 342 311 324 218 303  36 491 175 437 194 369  18 132 229 193 150 476\n",
      "  26 359  97 375 330 328 221 188 182 313 475  13 435 434 124  39 171  72\n",
      " 275  43 490 344 412 163 468 332 300 444 495 379  92 119 109 418 187  64\n",
      " 396  86 277 318 355 384 323 479   6  40 446 125  31 492 439  33 100 284\n",
      " 191 486 268 200 101 285 297 292 360  79 440 448 107  56 363 138 129 262\n",
      " 413  42 273 388 260 215 239 177 105 296 245 473  19 263 477 341 320   8\n",
      " 235 151 237 459 466 293 252  68 181 213 367  37 169 168 161 489 337 387\n",
      "  84 208 430 385 261 416  67 314 117 216 357 190  51  12  10 281 222 469\n",
      "  76 463 333 180  59 210 302 155  29 376 236  77 419 248 184 474  61 335\n",
      "  38 134 334 378 159 111  90 447 488 160 290 145  32 316 481 395  60 496\n",
      " 189  57 288  21 152 348 450 106 485 294  82 422 123 403 233 371   9 423\n",
      " 104 494 254 247 414 362 411 166 460 204  95 265 231  25  54 352   0 174\n",
      " 122  16 331 170 259  93 406 410 432 244 267]\n"
     ]
    }
   ],
   "source": [
    "print(data['City'].dtype)\n",
    "\n",
    "# Check unique values in the column to understand its nature\n",
    "print(data['City'].unique())"
   ]
  },
  {
   "cell_type": "code",
   "execution_count": 577,
   "metadata": {},
   "outputs": [
    {
     "data": {
      "text/plain": [
       "(6574, 29)"
      ]
     },
     "execution_count": 577,
     "metadata": {},
     "output_type": "execute_result"
    }
   ],
   "source": [
    "data.shape"
   ]
  },
  {
   "cell_type": "code",
   "execution_count": 578,
   "metadata": {},
   "outputs": [
    {
     "name": "stdout",
     "output_type": "stream",
     "text": [
      "City                        0\n",
      "State                       0\n",
      "Postal Code                 0\n",
      "Sub-Category                0\n",
      "Product Name                0\n",
      "Sales                       0\n",
      "Quantity                    0\n",
      "Discount                    0\n",
      "Profit                      0\n",
      "Order_Year                  0\n",
      "Order_Month                 0\n",
      "Order_Day                   0\n",
      "Ship_Year                   0\n",
      "Ship_Month                  0\n",
      "Ship_Day                    0\n",
      "Ship Mode_First Class       0\n",
      "Ship Mode_Same Day          0\n",
      "Ship Mode_Second Class      0\n",
      "Ship Mode_Standard Class    0\n",
      "Segment_Consumer            0\n",
      "Segment_Corporate           0\n",
      "Segment_Home Office         0\n",
      "Region_Central              0\n",
      "Region_East                 0\n",
      "Region_South                0\n",
      "Region_West                 0\n",
      "Category_Furniture          0\n",
      "Category_Office Supplies    0\n",
      "Category_Technology         0\n",
      "dtype: int64\n"
     ]
    }
   ],
   "source": [
    "data.notnull()\n",
    "nan_counts = data.isna().sum()\n",
    "print(nan_counts)"
   ]
  },
  {
   "cell_type": "code",
   "execution_count": 579,
   "metadata": {},
   "outputs": [
    {
     "name": "stdout",
     "output_type": "stream",
     "text": [
      "Optimal discount strategy: [0.93992967 0.1941785  0.00466761 ... 0.09806737 0.69006518 0.44156524]\n"
     ]
    }
   ],
   "source": [
    "def generate_population(size, num_features):\n",
    "    return [np.random.uniform(0, 1, num_features) for _ in range(size)]\n",
    "#generate first population\n",
    "\n",
    "\n",
    "def evaluate_fitness(candidate, data):\n",
    "    \n",
    "    adjusted_discounts = 1 - candidate  \n",
    "    adjusted_sales = data['Sales'] * (1 + adjusted_discounts)  \n",
    "    profit_per_item = adjusted_sales * adjusted_discounts * data['Profit']  \n",
    "    total_profit = np.sum(profit_per_item)  \n",
    "    return total_profit\n",
    "#fitness function how to max profit\n",
    "\n",
    "\n",
    "def select_parents(population, scores):\n",
    "    \n",
    "    combined = list(zip(scores, population))\n",
    "    combined_sorted = sorted(combined, key=lambda x: x[0], reverse=True)\n",
    "    top_parents = [individual for _, individual in combined_sorted[:len(population) // 2]]\n",
    "    \n",
    "    return top_parents\n",
    "#half of parent choose\n",
    "\n",
    "\n",
    "def perform_crossover(parent_a, parent_b):\n",
    "    split_point = np.random.randint(1, len(parent_a))\n",
    "    offspring_a = np.concatenate((parent_a[:split_point], parent_b[split_point:]))\n",
    "    offspring_b = np.concatenate((parent_b[:split_point], parent_a[split_point:]))\n",
    "    return offspring_a, offspring_b\n",
    "#random crossover\n",
    "\n",
    "def apply_mutation(individual, mutation_prob=0.01):\n",
    "    for idx in range(len(individual)):\n",
    "        if random.random() < mutation_prob:\n",
    "            individual[idx] = random.uniform(0, 1)\n",
    "    return individual\n",
    "\n",
    "\n",
    "def genetic_algorithm(dataset, generations=50, size=20, mutation_prob=0.01):\n",
    "    num_features = len(dataset)  \n",
    "    population = generate_population(size, num_features)\n",
    "\n",
    "    for gen in range(generations):\n",
    "        fitness_scores = [evaluate_fitness(ind, dataset) for ind in population]\n",
    "        selected_parents = select_parents(population, fitness_scores)\n",
    "        next_population = []\n",
    "\n",
    "        while len(next_population) < size:\n",
    "            parent_a, parent_b = random.sample(selected_parents, 2)\n",
    "            child_a, child_b = perform_crossover(parent_a, parent_b)\n",
    "            next_population.extend([apply_mutation(child_a, mutation_prob), apply_mutation(child_b, mutation_prob)])\n",
    "\n",
    "        population = next_population[:size]\n",
    "\n",
    "    \n",
    "    final_scores = [evaluate_fitness(ind, dataset) for ind in population]\n",
    "    optimal_solution = population[np.argmax(final_scores)]\n",
    "    return optimal_solution\n",
    "\n",
    "\n",
    "optimal_strategy = genetic_algorithm(data, generations=50, size=20, mutation_prob=0.01)\n",
    "print(\"Optimal discount strategy:\", optimal_strategy)\n"
   ]
  },
  {
   "cell_type": "code",
   "execution_count": 580,
   "metadata": {},
   "outputs": [
    {
     "name": "stderr",
     "output_type": "stream",
     "text": [
      "C:\\Users\\asus\\AppData\\Local\\Packages\\PythonSoftwareFoundation.Python.3.11_qbz5n2kfra8p0\\LocalCache\\local-packages\\Python311\\site-packages\\sklearn\\base.py:1473: ConvergenceWarning: Number of distinct clusters (8) found smaller than n_clusters (9). Possibly due to duplicate points in X.\n",
      "  return fit_method(estimator, *args, **kwargs)\n",
      "C:\\Users\\asus\\AppData\\Local\\Packages\\PythonSoftwareFoundation.Python.3.11_qbz5n2kfra8p0\\LocalCache\\local-packages\\Python311\\site-packages\\sklearn\\base.py:1473: ConvergenceWarning: Number of distinct clusters (8) found smaller than n_clusters (10). Possibly due to duplicate points in X.\n",
      "  return fit_method(estimator, *args, **kwargs)\n"
     ]
    },
    {
     "data": {
      "image/png": "[encoded data removed]",
      "text/plain": [
       "<Figure size 800x500 with 1 Axes>"
      ]
     },
     "metadata": {},
     "output_type": "display_data"
    }
   ],
   "source": [
    "from sklearn.cluster import KMeans\n",
    "import matplotlib.pyplot as plt\n",
    "\n",
    "inertia = []\n",
    "k_values = range(1, 11)  \n",
    "\n",
    "for k in k_values:\n",
    "    kmeans = KMeans(n_clusters=k, random_state=42)\n",
    "    kmeans.fit(data[['Discount']])  \n",
    "    inertia.append(kmeans.inertia_)\n",
    "\n",
    "plt.figure(figsize=(8, 5))\n",
    "plt.plot(k_values, inertia, marker='o', linestyle='--')\n",
    "plt.title('Elbow Method for Determining Optimal Number of Clusters')\n",
    "plt.xlabel('Number of Clusters (k)')\n",
    "plt.ylabel('Inertia')\n",
    "plt.xticks(k_values)\n",
    "plt.grid()\n",
    "plt.show()\n",
    "\n"
   ]
  },
  {
   "cell_type": "code",
   "execution_count": 581,
   "metadata": {},
   "outputs": [
    {
     "name": "stdout",
     "output_type": "stream",
     "text": [
      "Cluster centers based on discount values:\n",
      "[[0.0009589 ]\n",
      " [0.19980202]\n",
      " [0.35369863]]\n"
     ]
    },
    {
     "data": {
      "image/png": "[encoded data removed]",
      "text/plain": [
       "<Figure size 640x480 with 1 Axes>"
      ]
     },
     "metadata": {},
     "output_type": "display_data"
    }
   ],
   "source": [
    "from sklearn.cluster import KMeans\n",
    "import matplotlib.pyplot as plt\n",
    "\n",
    "\n",
    "kmeans = KMeans(n_clusters=3, random_state=42)\n",
    "kmeans.fit(data[['Discount']])\n",
    "data['Cluster_Label'] = kmeans.labels_\n",
    "print(\"Cluster centers based on discount values:\")\n",
    "print(kmeans.cluster_centers_)\n",
    "\n",
    "\n",
    "plt.scatter(data['Discount'], [0] * len(data), c=data['Cluster_Label'], cmap='viridis', s=50)\n",
    "plt.scatter(kmeans.cluster_centers_, [0] * len(kmeans.cluster_centers_), c='red', marker='x', label='Centroids')\n",
    "plt.xlabel('Discount')\n",
    "plt.title('Clustering Results: K-Means on Discount Data')\n",
    "plt.legend()\n",
    "plt.show()\n",
    "\n",
    "\n"
   ]
  },
  {
   "cell_type": "code",
   "execution_count": 582,
   "metadata": {},
   "outputs": [
    {
     "name": "stdout",
     "output_type": "stream",
     "text": [
      "0     719\n",
      "1    1220\n",
      "2    4635\n",
      "Name: count, dtype: int64\n",
      "                   mean       std  count\n",
      "Cluster_Label                           \n",
      "0              0.000959  0.009747   3650\n",
      "1              0.199802  0.003141   2778\n",
      "2              0.353699  0.055820    146\n"
     ]
    }
   ],
   "source": [
    "\n",
    "best_solution = np.array(optimal_strategy)  \n",
    "cluster_centers = kmeans.cluster_centers_\n",
    "distances = euclidean_distances(best_solution.reshape(-1, 1), cluster_centers)\n",
    "assigned_clusters = np.argmin(distances, axis=1)\n",
    "\n",
    "\n",
    "cluster_counts = pd.Series(assigned_clusters).value_counts().sort_index()\n",
    "cluster_stats = data.groupby('Cluster_Label')['Discount'].agg(['mean', 'std', 'count'])\n",
    "\n",
    "\n",
    "#Distribution of genetic algorithm discounts across clusters and Cluster statistics from K-Means clustering\n",
    "print(cluster_counts)\n",
    "print(cluster_stats)\n"
   ]
  },
  {
   "cell_type": "code",
   "execution_count": 583,
   "metadata": {},
   "outputs": [],
   "source": [
    "def compute_cluster_revenue(cluster_data):\n",
    "    #just these 3 numerical feature is important\n",
    "    discount_rate = cluster_data['Discount']\n",
    "    sales_volume = cluster_data['Sales']\n",
    "    base_profit_margin = cluster_data['Profit']\n",
    "    adjusted_sales = sales_volume * (1 + (1 - discount_rate))\n",
    "    revenue_per_item = adjusted_sales * (1 - discount_rate) * base_profit_margin\n",
    "    return np.sum(revenue_per_item)\n"
   ]
  },
  {
   "cell_type": "code",
   "execution_count": 584,
   "metadata": {},
   "outputs": [
    {
     "name": "stdout",
     "output_type": "stream",
     "text": [
      "K-Means Cluster Profits: {0: 10845160.06599741, 1: 2701503.8820237136, 2: -311100.2928628541}\n"
     ]
    }
   ],
   "source": [
    "n_clusters=3\n",
    "kmeans_cluster_profits = {}\n",
    "for cluster_id in range(n_clusters):\n",
    "    # Filter the data for the current cluster\n",
    "    cluster_data = data[data['Cluster_Label'] == cluster_id]\n",
    "    profit =  compute_cluster_revenue(cluster_data)\n",
    "    kmeans_cluster_profits[cluster_id] = profit\n",
    "\n",
    "print(\"K-Means Cluster Profits:\", kmeans_cluster_profits)"
   ]
  },
  {
   "cell_type": "code",
   "execution_count": 585,
   "metadata": {},
   "outputs": [
    {
     "name": "stdout",
     "output_type": "stream",
     "text": [
      "Genetic Algorithm Optimized Profits: {0: 5467007.001580466, 1: 2213365.2854441945, 2: -96877.24764687693}\n"
     ]
    }
   ],
   "source": [
    "genetic_results = {}\n",
    "\n",
    "for cluster_id in range(n_clusters):\n",
    "    \n",
    "    cluster_data = data[data['Cluster_Label'] == cluster_id]\n",
    "    \n",
    "    if 'Sales' not in cluster_data.columns or 'Profit' not in cluster_data.columns:\n",
    "        raise ValueError(f\"Columns 'Sales' or 'Profit' are missing in cluster {cluster_id}.\")\n",
    "\n",
    "    best_solution = genetic_algorithm(cluster_data, generations=50, size=20, mutation_prob=0.01)\n",
    "    optimized_profit = evaluate_fitness(best_solution, cluster_data)\n",
    "    \n",
    "    \n",
    "    genetic_results[cluster_id] = {\n",
    "        'best_solution': best_solution,\n",
    "        'optimized_profit': optimized_profit\n",
    "    }\n",
    "\n",
    "print(\"Genetic Algorithm Optimized Profits:\", {k: v['optimized_profit'] for k, v in genetic_results.items()})"
   ]
  },
  {
   "cell_type": "code",
   "execution_count": 586,
   "metadata": {},
   "outputs": [
    {
     "data": {
      "text/plain": [
       "{0: {'kmeans_profit': 10845160.06599741,\n",
       "  'genetic_profit': 5467007.001580466,\n",
       "  'improvement': -49.590352117337105},\n",
       " 1: {'kmeans_profit': 2701503.8820237136,\n",
       "  'genetic_profit': 2213365.2854441945,\n",
       "  'improvement': -18.069142888436325},\n",
       " 2: {'kmeans_profit': -311100.2928628541,\n",
       "  'genetic_profit': -96877.24764687693,\n",
       "  'improvement': -68.85980184866479}}"
      ]
     },
     "execution_count": 586,
     "metadata": {},
     "output_type": "execute_result"
    }
   ],
   "source": [
    "comparison = {}\n",
    "for cluster_id in range(n_clusters):\n",
    "    \n",
    "    kmeans_profit = kmeans_cluster_profits[cluster_id]\n",
    "    genetic_profit = genetic_results[cluster_id]['optimized_profit']\n",
    "    improvement = (genetic_profit - kmeans_profit) / kmeans_profit * 100 \n",
    "    comparison[cluster_id] = {\n",
    "        'kmeans_profit': kmeans_profit,\n",
    "        'genetic_profit': genetic_profit,\n",
    "        'improvement': improvement\n",
    "    }\n",
    "\n",
    "comparison\n",
    "\n"
   ]
  },
  {
   "cell_type": "code",
   "execution_count": 587,
   "metadata": {},
   "outputs": [
    {
     "data": {
      "image/png": "[encoded data removed]",
      "text/plain": [
       "<Figure size 1000x600 with 1 Axes>"
      ]
     },
     "metadata": {},
     "output_type": "display_data"
    }
   ],
   "source": [
    "\n",
    "clusters = list(comparison.keys())\n",
    "kmeans_profits = [comparison[c]['kmeans_profit'] for c in clusters]\n",
    "genetic_profits = [comparison[c]['genetic_profit'] for c in clusters]\n",
    "improvements = [comparison[c]['improvement'] for c in clusters]\n",
    "\n",
    "plt.figure(figsize=(10, 6))\n",
    "width = 0.35\n",
    "x = np.arange(len(clusters))\n",
    "\n",
    "plt.bar(x - width/2, kmeans_profits, width, label=\"K-Means\")\n",
    "plt.bar(x + width/2, genetic_profits, width, label=\"Genetic Algorithm\")\n",
    "plt.xlabel(\"Clusters\")\n",
    "plt.ylabel(\"Profit\")\n",
    "plt.title(\"Profit Comparison\")\n",
    "plt.xticks(x, [f\"Cluster {c}\" for c in clusters])\n",
    "plt.legend()\n",
    "plt.show()\n",
    "\n"
   ]
  },
  {
   "cell_type": "code",
   "execution_count": 588,
   "metadata": {},
   "outputs": [
    {
     "data": {
      "image/png": "[encoded data removed]",
      "text/plain": [
       "<Figure size 1000x600 with 1 Axes>"
      ]
     },
     "metadata": {},
     "output_type": "display_data"
    }
   ],
   "source": [
    "\n",
    "plt.figure(figsize=(10, 6))\n",
    "plt.plot(clusters, improvements, marker='o')\n",
    "plt.xlabel(\"Clusters\")\n",
    "plt.ylabel(\"Improvement\")\n",
    "plt.title(\" Improvement Genetic Algorithm over K-Means\")\n",
    "plt.grid(True)\n",
    "plt.show()"
   ]
  },
  {
   "cell_type": "code",
   "execution_count": 589,
   "metadata": {},
   "outputs": [
    {
     "name": "stdout",
     "output_type": "stream",
     "text": [
      "Total K-Means Profit: 13235563.66\n",
      "Total Genetic Algorithm Profit: 7583495.04\n",
      "Overall Improvement: -42.70%\n"
     ]
    }
   ],
   "source": [
    "total_kmeans_profit = sum(kmeans_cluster_profits.values())\n",
    "total_genetic_profit = sum(result['optimized_profit'] for result in genetic_results.values())\n",
    "total_improvement = (total_genetic_profit - total_kmeans_profit) / total_kmeans_profit * 100\n",
    "\n",
    "print(f\"Total K-Means Profit: {total_kmeans_profit:.2f}\")\n",
    "print(f\"Total Genetic Algorithm Profit: {total_genetic_profit:.2f}\")\n",
    "print(f\"Overall Improvement: {total_improvement:.2f}%\")"
   ]
  }
 ],
 "metadata": {
  "kernelspec": {
   "display_name": "Python 3",
   "language": "python",
   "name": "python3"
  },
  "language_info": {
   "codemirror_mode": {
    "name": "ipython",
    "version": 3
   },
   "file_extension": ".py",
   "mimetype": "text/x-python",
   "name": "python",
   "nbconvert_exporter": "python",
   "pygments_lexer": "ipython3",
   "version": "3.11.9"
  }
 },
 "nbformat": 4,
 "nbformat_minor": 2
}
